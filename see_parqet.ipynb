{
 "cells": [
  {
   "cell_type": "code",
   "execution_count": null,
   "metadata": {},
   "outputs": [
    {
     "ename": "",
     "evalue": "",
     "output_type": "error",
     "traceback": [
      "\u001b[1;31mRunning cells with 'Python 3.9.16' requires the ipykernel package.\n",
      "\u001b[1;31mRun the following command to install 'ipykernel' into the Python environment. \n",
      "\u001b[1;31mCommand: '/usr/bin/python -m pip install ipykernel -U --user --force-reinstall'"
     ]
    }
   ],
   "source": [
    "import pandas as pd\n",
    "from sklearn.feature_extraction.text import TfidfVectorizer\n",
    "from sklearn.ensemble import RandomForestClassifier\n",
    "from sklearn.model_selection import train_test_split\n",
    "from sklearn.metrics import classification_report\n",
    "\n",
    "# Sample data loading function\n",
    "def load_data(filepath):\n",
    "    # Assuming the file is in parquet format; adjust based on your actual data format\n",
    "    return pd.read_parquet(filepath)\n",
    "\n",
    "def extract_features(df):\n",
    "    # Create a TfidfVectorizer instance with specified token pattern\n",
    "    vectorizer = TfidfVectorizer(analyzer='word', token_pattern=r'\\w+')\n",
    "\n",
    "    # Ensure all tokens are strings; convert tokens to strings if they are not\n",
    "    X = vectorizer.fit_transform(df['tokens'].apply(lambda x: ' '.join(str(token) for token in x)))\n",
    "    \n",
    "    return X, vectorizer\n",
    "\n",
    "\n",
    "# Preparing labels\n",
    "def prepare_labels(df):\n",
    "    return list(df['token_label_ids'])\n",
    "\n",
    "# Main execution\n",
    "if __name__ == \"__main__\":\n",
    "    data = load_data('data/train_data.parquet')\n",
    "    \n",
    "    # Assuming `tokens` is a column of lists of tokens\n",
    "    # Extract features and labels\n",
    "    X, vectorizer = extract_features(data)\n",
    "    y = prepare_labels(data)\n",
    "\n",
    "    # Split data for training and testing\n",
    "    X_train, X_test, y_train, y_test = train_test_split(X, y, test_size=0.2, random_state=42)\n",
    "\n",
    "    # Initialize and train the classifier\n",
    "    classifier = RandomForestClassifier(n_estimators=100, random_state=42)\n",
    "    classifier.fit(X_train, y_train)\n",
    "\n",
    "    # Predict on the test set\n",
    "    y_pred = classifier.predict(X_test)\n",
    "\n",
    "    # Evaluate the results\n",
    "    print(classification_report(y_test, y_pred))\n"
   ]
  }
 ],
 "metadata": {
  "kernelspec": {
   "display_name": "Python 3",
   "language": "python",
   "name": "python3"
  },
  "language_info": {
   "name": "python",
   "version": "3.10.4"
  }
 },
 "nbformat": 4,
 "nbformat_minor": 2
}
