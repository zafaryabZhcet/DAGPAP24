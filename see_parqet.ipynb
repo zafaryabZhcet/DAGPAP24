{
 "cells": [
  {
   "cell_type": "code",
   "execution_count": 8,
   "metadata": {},
   "outputs": [
    {
     "name": "stdout",
     "output_type": "stream",
     "text": [
      "                                                   preds\n",
      "index                                                   \n",
      "0      [1, 1, 1, 1, 1, 1, 1, 1, 1, 1, 1, 1, 1, 1, 1, ...\n",
      "1      [0, 0, 0, 0, 0, 0, 0, 0, 0, 0, 0, 0, 0, 0, 0, ...\n",
      "2      [0, 0, 0, 0, 0, 0, 0, 0, 0, 0, 0, 0, 0, 0, 0, ...\n",
      "27     [0, 0, 0, 0, 0, 0, 0, 0, 0, 0, 0, 0, 0, 0, 0, ...\n",
      "35     [0, 0, 0, 0, 0, 0, 0, 0, 0, 0, 0, 0, 0, 0, 0, ...\n",
      "                                                    text  \\\n",
      "index                                                      \n",
      "15096  Across the world, Emergency Departments are fa...   \n",
      "14428  lung Crab is the in the lead make of cancer-re...   \n",
      "2144   The number of osteoporotic fractures, particul...   \n",
      "5826   The COVID-19 pandemic has spread to every coun...   \n",
      "1452   Endophytic fungi live a significant part of th...   \n",
      "\n",
      "                                             annotations  \\\n",
      "index                                                      \n",
      "15096  [[0, 3779, human], [3780, 7601, NLTK_synonym_r...   \n",
      "14428  [[0, 4166, NLTK_synonym_replacement], [4167, 2...   \n",
      "2144   [[0, 3264, chatgpt], [3265, 17179, human], [17...   \n",
      "5826   [[0, 3666, human], [3667, 6954, chatgpt], [695...   \n",
      "1452   [[0, 10489, human], [10490, 12000, summarized]...   \n",
      "\n",
      "                                                  tokens  \\\n",
      "index                                                      \n",
      "15096  [Across, the, world,, Emergency, Departments, ...   \n",
      "14428  [lung, Crab, is, the, in, the, lead, make, of,...   \n",
      "2144   [The, number, of, osteoporotic, fractures,, pa...   \n",
      "5826   [The, COVID-19, pandemic, has, spread, to, eve...   \n",
      "1452   [Endophytic, fungi, live, a, significant, part...   \n",
      "\n",
      "                                         token_label_ids  \n",
      "index                                                     \n",
      "15096  [0, 0, 0, 0, 0, 0, 0, 0, 0, 0, 0, 0, 0, 0, 0, ...  \n",
      "14428  [1, 1, 1, 1, 1, 1, 1, 1, 1, 1, 1, 1, 1, 1, 1, ...  \n",
      "2144   [2, 2, 2, 2, 2, 2, 2, 2, 2, 2, 2, 2, 2, 2, 2, ...  \n",
      "5826   [0, 0, 0, 0, 0, 0, 0, 0, 0, 0, 0, 0, 0, 0, 0, ...  \n",
      "1452   [0, 0, 0, 0, 0, 0, 0, 0, 0, 0, 0, 0, 0, 0, 0, ...  \n",
      "                                                    text  \\\n",
      "index                                                      \n",
      "12313  Phylogenetic networks are a generalization of ...   \n",
      "3172   Prediction modelling is more closely aligned w...   \n",
      "6451   The heat transfer exhibits the flow of heat (t...   \n",
      "4351   a common experience during superficial ultraso...   \n",
      "22694  Code metadata Current code version v1.5.9 Perm...   \n",
      "\n",
      "                                                  tokens  \n",
      "index                                                     \n",
      "12313  [Phylogenetic, networks, are, a, generalizatio...  \n",
      "3172   [Prediction, modelling, is, more, closely, ali...  \n",
      "6451   [The, heat, transfer, exhibits, the, flow, of,...  \n",
      "4351   [a, common, experience, during, superficial, u...  \n",
      "22694  [Code, metadata, Current, code, version, v1.5....  \n"
     ]
    }
   ],
   "source": [
    "import pandas as pd\n",
    "\n",
    "# Path to your Parquet file\n",
    "path_to_test_parquet = 'data/dev_data.parquet'\n",
    "path_to_train_parquet = 'data/train_data.parquet'\n",
    "path_to_pred_parquet = 'data/predictions.parquet'\n",
    "\n",
    "# Load the Parquet file\n",
    "df = pd.read_parquet(path_to_test_parquet)\n",
    "dft = pd.read_parquet(path_to_train_parquet)\n",
    "dfp = pd.read_parquet(path_to_pred_parquet)\n",
    "\n",
    "# Display the first few rows of the DataFrame to understand its structure\n",
    "print(f'Predictions:\\n{dfp.head()}')\n",
    "print(f'Training:\\n{dft.head()}')\n",
    "print(f'Test:\\n{df.head()}')"
   ]
  }
 ],
 "metadata": {
  "kernelspec": {
   "display_name": "Python 3",
   "language": "python",
   "name": "python3"
  },
  "language_info": {
   "codemirror_mode": {
    "name": "ipython",
    "version": 3
   },
   "file_extension": ".py",
   "mimetype": "text/x-python",
   "name": "python",
   "nbconvert_exporter": "python",
   "pygments_lexer": "ipython3",
   "version": "3.10.4"
  }
 },
 "nbformat": 4,
 "nbformat_minor": 2
}
